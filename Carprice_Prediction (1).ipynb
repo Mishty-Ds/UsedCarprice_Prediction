{
 "cells": [
  {
   "cell_type": "code",
   "execution_count": 1,
   "metadata": {},
   "outputs": [],
   "source": [
    "import datetime\n",
    "\n",
    "import numpy as np\n",
    "import pandas as pd\n",
    "\n",
    "import matplotlib.pyplot as plt\n",
    "import seaborn as sns\n",
    "%matplotlib inline\n",
    "\n",
    "from sklearn.model_selection import train_test_split\n",
    "from sklearn.linear_model import LinearRegression\n",
    "from sklearn.ensemble import RandomForestRegressor\n",
    "from sklearn.preprocessing import StandardScaler\n",
    "from sklearn.tree import DecisionTreeRegressor\n",
    "from sklearn.neighbors import KNeighborsRegressor\n",
    "from sklearn.preprocessing import OrdinalEncoder\n",
    "from sklearn import preprocessing\n",
    "\n",
    "from sklearn.model_selection import cross_val_score\n",
    "from sklearn.impute import SimpleImputer\n",
    "from sklearn.pipeline import make_pipeline\n",
    "\n",
    "import warnings\n",
    "warnings.filterwarnings('ignore')\n",
    "from sklearn.metrics import r2_score\n"
   ]
  },
  {
   "cell_type": "markdown",
   "metadata": {},
   "source": [
    "Read the Dataset"
   ]
  },
  {
   "cell_type": "code",
   "execution_count": 2,
   "metadata": {},
   "outputs": [],
   "source": [
    "Car=pd.read_csv('Cardetails.csv')"
   ]
  },
  {
   "cell_type": "code",
   "execution_count": 3,
   "metadata": {},
   "outputs": [
    {
     "data": {
      "text/html": [
       "<div>\n",
       "<style scoped>\n",
       "    .dataframe tbody tr th:only-of-type {\n",
       "        vertical-align: middle;\n",
       "    }\n",
       "\n",
       "    .dataframe tbody tr th {\n",
       "        vertical-align: top;\n",
       "    }\n",
       "\n",
       "    .dataframe thead th {\n",
       "        text-align: right;\n",
       "    }\n",
       "</style>\n",
       "<table border=\"1\" class=\"dataframe\">\n",
       "  <thead>\n",
       "    <tr style=\"text-align: right;\">\n",
       "      <th></th>\n",
       "      <th>Unnamed: 0</th>\n",
       "      <th>Brand</th>\n",
       "      <th>Model</th>\n",
       "      <th>Variant</th>\n",
       "      <th>Manufacturing_Year</th>\n",
       "      <th>Driven_kilometres</th>\n",
       "      <th>Fuel</th>\n",
       "      <th>Number_of_owners</th>\n",
       "      <th>Location</th>\n",
       "      <th>Price</th>\n",
       "    </tr>\n",
       "  </thead>\n",
       "  <tbody>\n",
       "    <tr>\n",
       "      <th>0</th>\n",
       "      <td>0</td>\n",
       "      <td>Maruti Suzuki</td>\n",
       "      <td>Celerio</td>\n",
       "      <td>ZXI AMT</td>\n",
       "      <td>2017</td>\n",
       "      <td>11,439 km</td>\n",
       "      <td>Petrol</td>\n",
       "      <td>1st</td>\n",
       "      <td>Sainikpuri, Hyderabad, Telangana</td>\n",
       "      <td>₹ 4,90,000</td>\n",
       "    </tr>\n",
       "    <tr>\n",
       "      <th>1</th>\n",
       "      <td>1</td>\n",
       "      <td>Mahindra</td>\n",
       "      <td>Xylo</td>\n",
       "      <td>2009-2011 E8</td>\n",
       "      <td>2011</td>\n",
       "      <td>81,000 km</td>\n",
       "      <td>Diesel</td>\n",
       "      <td>1st</td>\n",
       "      <td>Rocktown Colony, Hyderabad, Telangana</td>\n",
       "      <td>₹ 3,96,000</td>\n",
       "    </tr>\n",
       "    <tr>\n",
       "      <th>2</th>\n",
       "      <td>2</td>\n",
       "      <td>Tata</td>\n",
       "      <td>Nexon</td>\n",
       "      <td>1.2 Revotron XM</td>\n",
       "      <td>2018</td>\n",
       "      <td>55,700 km</td>\n",
       "      <td>Petrol</td>\n",
       "      <td>1st</td>\n",
       "      <td>Himayat Nagar, Hyderabad, Telangana</td>\n",
       "      <td>₹ 7,75,000</td>\n",
       "    </tr>\n",
       "    <tr>\n",
       "      <th>3</th>\n",
       "      <td>3</td>\n",
       "      <td>Honda</td>\n",
       "      <td>CR-V</td>\n",
       "      <td>2007-2012 AT With Sun Roof</td>\n",
       "      <td>2010</td>\n",
       "      <td>71,174 km</td>\n",
       "      <td>Petrol</td>\n",
       "      <td>1st</td>\n",
       "      <td>Madhapur, Hyderabad, Telangana</td>\n",
       "      <td>₹ 7,50,000</td>\n",
       "    </tr>\n",
       "    <tr>\n",
       "      <th>4</th>\n",
       "      <td>4</td>\n",
       "      <td>Maruti Suzuki</td>\n",
       "      <td>Swift Dzire</td>\n",
       "      <td>VDI</td>\n",
       "      <td>2019</td>\n",
       "      <td>65,035 km</td>\n",
       "      <td>Diesel</td>\n",
       "      <td>1st</td>\n",
       "      <td>Ameerpet, Hyderabad, Telangana</td>\n",
       "      <td>₹ 7,90,000</td>\n",
       "    </tr>\n",
       "  </tbody>\n",
       "</table>\n",
       "</div>"
      ],
      "text/plain": [
       "   Unnamed: 0          Brand        Model                     Variant  \\\n",
       "0           0  Maruti Suzuki      Celerio                     ZXI AMT   \n",
       "1           1       Mahindra         Xylo                2009-2011 E8   \n",
       "2           2           Tata        Nexon             1.2 Revotron XM   \n",
       "3           3          Honda         CR-V  2007-2012 AT With Sun Roof   \n",
       "4           4  Maruti Suzuki  Swift Dzire                         VDI   \n",
       "\n",
       "  Manufacturing_Year Driven_kilometres    Fuel Number_of_owners  \\\n",
       "0               2017         11,439 km  Petrol              1st   \n",
       "1               2011         81,000 km  Diesel              1st   \n",
       "2               2018         55,700 km  Petrol              1st   \n",
       "3               2010         71,174 km  Petrol              1st   \n",
       "4               2019         65,035 km  Diesel              1st   \n",
       "\n",
       "                                Location       Price  \n",
       "0       Sainikpuri, Hyderabad, Telangana  ₹ 4,90,000  \n",
       "1  Rocktown Colony, Hyderabad, Telangana  ₹ 3,96,000  \n",
       "2    Himayat Nagar, Hyderabad, Telangana  ₹ 7,75,000  \n",
       "3         Madhapur, Hyderabad, Telangana  ₹ 7,50,000  \n",
       "4         Ameerpet, Hyderabad, Telangana  ₹ 7,90,000  "
      ]
     },
     "execution_count": 3,
     "metadata": {},
     "output_type": "execute_result"
    }
   ],
   "source": [
    "Car.head()"
   ]
  },
  {
   "cell_type": "markdown",
   "metadata": {},
   "source": [
    "Remove the unwanted columns"
   ]
  },
  {
   "cell_type": "code",
   "execution_count": 4,
   "metadata": {},
   "outputs": [],
   "source": [
    "Car.drop('Unnamed: 0',inplace=True,axis=1)"
   ]
  },
  {
   "cell_type": "code",
   "execution_count": 5,
   "metadata": {},
   "outputs": [
    {
     "data": {
      "text/html": [
       "<div>\n",
       "<style scoped>\n",
       "    .dataframe tbody tr th:only-of-type {\n",
       "        vertical-align: middle;\n",
       "    }\n",
       "\n",
       "    .dataframe tbody tr th {\n",
       "        vertical-align: top;\n",
       "    }\n",
       "\n",
       "    .dataframe thead th {\n",
       "        text-align: right;\n",
       "    }\n",
       "</style>\n",
       "<table border=\"1\" class=\"dataframe\">\n",
       "  <thead>\n",
       "    <tr style=\"text-align: right;\">\n",
       "      <th></th>\n",
       "      <th>Brand</th>\n",
       "      <th>Model</th>\n",
       "      <th>Variant</th>\n",
       "      <th>Manufacturing_Year</th>\n",
       "      <th>Driven_kilometres</th>\n",
       "      <th>Fuel</th>\n",
       "      <th>Number_of_owners</th>\n",
       "      <th>Location</th>\n",
       "      <th>Price</th>\n",
       "    </tr>\n",
       "  </thead>\n",
       "  <tbody>\n",
       "    <tr>\n",
       "      <th>0</th>\n",
       "      <td>Maruti Suzuki</td>\n",
       "      <td>Celerio</td>\n",
       "      <td>ZXI AMT</td>\n",
       "      <td>2017</td>\n",
       "      <td>11,439 km</td>\n",
       "      <td>Petrol</td>\n",
       "      <td>1st</td>\n",
       "      <td>Sainikpuri, Hyderabad, Telangana</td>\n",
       "      <td>₹ 4,90,000</td>\n",
       "    </tr>\n",
       "    <tr>\n",
       "      <th>1</th>\n",
       "      <td>Mahindra</td>\n",
       "      <td>Xylo</td>\n",
       "      <td>2009-2011 E8</td>\n",
       "      <td>2011</td>\n",
       "      <td>81,000 km</td>\n",
       "      <td>Diesel</td>\n",
       "      <td>1st</td>\n",
       "      <td>Rocktown Colony, Hyderabad, Telangana</td>\n",
       "      <td>₹ 3,96,000</td>\n",
       "    </tr>\n",
       "    <tr>\n",
       "      <th>2</th>\n",
       "      <td>Tata</td>\n",
       "      <td>Nexon</td>\n",
       "      <td>1.2 Revotron XM</td>\n",
       "      <td>2018</td>\n",
       "      <td>55,700 km</td>\n",
       "      <td>Petrol</td>\n",
       "      <td>1st</td>\n",
       "      <td>Himayat Nagar, Hyderabad, Telangana</td>\n",
       "      <td>₹ 7,75,000</td>\n",
       "    </tr>\n",
       "    <tr>\n",
       "      <th>3</th>\n",
       "      <td>Honda</td>\n",
       "      <td>CR-V</td>\n",
       "      <td>2007-2012 AT With Sun Roof</td>\n",
       "      <td>2010</td>\n",
       "      <td>71,174 km</td>\n",
       "      <td>Petrol</td>\n",
       "      <td>1st</td>\n",
       "      <td>Madhapur, Hyderabad, Telangana</td>\n",
       "      <td>₹ 7,50,000</td>\n",
       "    </tr>\n",
       "    <tr>\n",
       "      <th>4</th>\n",
       "      <td>Maruti Suzuki</td>\n",
       "      <td>Swift Dzire</td>\n",
       "      <td>VDI</td>\n",
       "      <td>2019</td>\n",
       "      <td>65,035 km</td>\n",
       "      <td>Diesel</td>\n",
       "      <td>1st</td>\n",
       "      <td>Ameerpet, Hyderabad, Telangana</td>\n",
       "      <td>₹ 7,90,000</td>\n",
       "    </tr>\n",
       "  </tbody>\n",
       "</table>\n",
       "</div>"
      ],
      "text/plain": [
       "           Brand        Model                     Variant Manufacturing_Year  \\\n",
       "0  Maruti Suzuki      Celerio                     ZXI AMT               2017   \n",
       "1       Mahindra         Xylo                2009-2011 E8               2011   \n",
       "2           Tata        Nexon             1.2 Revotron XM               2018   \n",
       "3          Honda         CR-V  2007-2012 AT With Sun Roof               2010   \n",
       "4  Maruti Suzuki  Swift Dzire                         VDI               2019   \n",
       "\n",
       "  Driven_kilometres    Fuel Number_of_owners  \\\n",
       "0         11,439 km  Petrol              1st   \n",
       "1         81,000 km  Diesel              1st   \n",
       "2         55,700 km  Petrol              1st   \n",
       "3         71,174 km  Petrol              1st   \n",
       "4         65,035 km  Diesel              1st   \n",
       "\n",
       "                                Location       Price  \n",
       "0       Sainikpuri, Hyderabad, Telangana  ₹ 4,90,000  \n",
       "1  Rocktown Colony, Hyderabad, Telangana  ₹ 3,96,000  \n",
       "2    Himayat Nagar, Hyderabad, Telangana  ₹ 7,75,000  \n",
       "3         Madhapur, Hyderabad, Telangana  ₹ 7,50,000  \n",
       "4         Ameerpet, Hyderabad, Telangana  ₹ 7,90,000  "
      ]
     },
     "execution_count": 5,
     "metadata": {},
     "output_type": "execute_result"
    }
   ],
   "source": [
    "Car.head()"
   ]
  },
  {
   "cell_type": "code",
   "execution_count": 6,
   "metadata": {},
   "outputs": [],
   "source": [
    "Car['Price'] = Car['Price'].replace('\\₹', '', regex=True)"
   ]
  },
  {
   "cell_type": "code",
   "execution_count": 7,
   "metadata": {},
   "outputs": [],
   "source": [
    "Car['Price'] = Car['Price'].replace('\\,', '', regex=True)"
   ]
  },
  {
   "cell_type": "code",
   "execution_count": 8,
   "metadata": {},
   "outputs": [
    {
     "data": {
      "text/plain": [
       "-          706\n",
       " 500000    116\n",
       " 600000     98\n",
       " 350000     88\n",
       " 390000     86\n",
       "          ... \n",
       " 676000      2\n",
       " 655000      2\n",
       " 872000      2\n",
       " 451000      2\n",
       " 789000      2\n",
       "Name: Price, Length: 301, dtype: int64"
      ]
     },
     "execution_count": 8,
     "metadata": {},
     "output_type": "execute_result"
    }
   ],
   "source": [
    "Car['Price'].value_counts()"
   ]
  },
  {
   "cell_type": "code",
   "execution_count": 9,
   "metadata": {},
   "outputs": [],
   "source": [
    "Car['Price'] = Car['Price'].replace('-', 0)"
   ]
  },
  {
   "cell_type": "code",
   "execution_count": 10,
   "metadata": {},
   "outputs": [],
   "source": [
    "Car['Price'] = pd.to_numeric(Car['Price'])"
   ]
  },
  {
   "cell_type": "code",
   "execution_count": 11,
   "metadata": {},
   "outputs": [],
   "source": [
    "Car['Price'] = Car['Price'].replace('0',(Car['Price'].mean()) )"
   ]
  },
  {
   "cell_type": "code",
   "execution_count": 12,
   "metadata": {},
   "outputs": [
    {
     "data": {
      "text/plain": [
       "0        490000\n",
       "1        396000\n",
       "2        775000\n",
       "3        750000\n",
       "4        790000\n",
       "         ...   \n",
       "6926     749000\n",
       "6927          0\n",
       "6928    1150000\n",
       "6929    4550000\n",
       "6930    1045000\n",
       "Name: Price, Length: 6931, dtype: int64"
      ]
     },
     "execution_count": 12,
     "metadata": {},
     "output_type": "execute_result"
    }
   ],
   "source": [
    "Car['Price']"
   ]
  },
  {
   "cell_type": "code",
   "execution_count": 13,
   "metadata": {},
   "outputs": [],
   "source": [
    "def whitespace_remover(dataframe):\n",
    "    \n",
    "    # iterating over the columns\n",
    "    for i in dataframe.columns:\n",
    "          \n",
    "        # checking datatype of each columns\n",
    "        if dataframe[i].dtype == 'object':\n",
    "              \n",
    "            # applying strip function on column\n",
    "            dataframe[i] = dataframe[i].map(str.strip)\n",
    "        else:\n",
    "              \n",
    "            # if condn. is False then it will do nothing.\n",
    "            pass\n",
    "  "
   ]
  },
  {
   "cell_type": "code",
   "execution_count": 14,
   "metadata": {},
   "outputs": [],
   "source": [
    "whitespace_remover(Car)"
   ]
  },
  {
   "cell_type": "markdown",
   "metadata": {},
   "source": [
    "TRAIN TEST SPLIT"
   ]
  },
  {
   "cell_type": "code",
   "execution_count": 15,
   "metadata": {},
   "outputs": [],
   "source": [
    "X_train, X_test, y_train, y_test = train_test_split(Car.iloc[:, :-1], \n",
    "                                                    Car.iloc[:, -1], \n",
    "                                                    test_size = 0.3, \n",
    "                                                    random_state = 42)"
   ]
  },
  {
   "cell_type": "markdown",
   "metadata": {},
   "source": [
    "EXPLORATORY DATA ANALYSIS"
   ]
  },
  {
   "cell_type": "markdown",
   "metadata": {},
   "source": [
    "Let's explore the various columns and draw information about how useful each column is. I'll also modify the test data based on training data"
   ]
  },
  {
   "cell_type": "markdown",
   "metadata": {},
   "source": [
    "Sometimes the resale value of a car also depends on manufacturer of car hence lets see the distribution of the cars by Manufacturer and see the count for each brand "
   ]
  },
  {
   "cell_type": "code",
   "execution_count": 16,
   "metadata": {},
   "outputs": [],
   "source": [
    "Car['Brand']=Car['Brand'].replace('-','Maruti Suzuki')"
   ]
  },
  {
   "cell_type": "code",
   "execution_count": 17,
   "metadata": {},
   "outputs": [
    {
     "data": {
      "text/plain": [
       "Maruti Suzuki    2570\n",
       "Hyundai          1090\n",
       "Mahindra          530\n",
       "Honda             478\n",
       "Toyota            428\n",
       "Ford              329\n",
       "Renault           232\n",
       "Mercedes-Benz     179\n",
       "Volkswagen        175\n",
       "Tata              162\n",
       "BMW               129\n",
       "Audi               93\n",
       "Chevrolet          86\n",
       "Skoda              74\n",
       "Land Rover         72\n",
       "Datsun             65\n",
       "Kia                45\n",
       "Jaguar             36\n",
       "Volvo              31\n",
       "Nissan             28\n",
       "MG                 28\n",
       "Fiat               20\n",
       "Force Motors       18\n",
       "Mini               18\n",
       "Mitsubishi          6\n",
       "Jeep                5\n",
       "Porsche             4\n",
       "Name: Brand, dtype: int64"
      ]
     },
     "execution_count": 17,
     "metadata": {},
     "output_type": "execute_result"
    }
   ],
   "source": [
    "Car['Brand'].value_counts()"
   ]
  },
  {
   "cell_type": "code",
   "execution_count": 18,
   "metadata": {},
   "outputs": [
    {
     "data": {
      "text/plain": [
       "Text(0, 0.5, 'Count of cars')"
      ]
     },
     "execution_count": 18,
     "metadata": {},
     "output_type": "execute_result"
    },
    {
     "data": {
      "image/png": "[encoded data removed]",
      "text/plain": [
       "<Figure size 864x576 with 1 Axes>"
      ]
     },
     "metadata": {
      "needs_background": "light"
     },
     "output_type": "display_data"
    }
   ],
   "source": [
    "plt.figure(figsize = (12, 8))\n",
    "plot = sns.countplot(x = 'Brand', data = X_train)\n",
    "plt.xticks(rotation = 90)\n",
    "for p in plot.patches:\n",
    "    plot.annotate(p.get_height(), \n",
    "                        (p.get_x() + p.get_width() / 2.0, \n",
    "                         p.get_height()), \n",
    "                        ha = 'center', \n",
    "                        va = 'center', \n",
    "                        xytext = (0, 5),\n",
    "                        textcoords = 'offset points')\n",
    "\n",
    "plt.title(\"Count of cars based on Brand\")\n",
    "plt.xlabel(\"Brand\")\n",
    "plt.ylabel(\"Count of cars\")"
   ]
  },
  {
   "cell_type": "markdown",
   "metadata": {},
   "source": [
    "Maximum cars in the data extract are by the manufacturer Maruti Suzuki"
   ]
  },
  {
   "cell_type": "markdown",
   "metadata": {},
   "source": [
    "Location"
   ]
  },
  {
   "cell_type": "code",
   "execution_count": 19,
   "metadata": {},
   "outputs": [
    {
     "data": {
      "text/plain": [
       "-                                                                    706\n",
       "Pitampura, Delhi, Delhi                                              229\n",
       "Noida Extension, Noida, Uttar Pradesh                                171\n",
       "Madhapur, Hyderabad, Telangana                                       146\n",
       "Hazratganj, Lucknow, Uttar Pradesh                                   137\n",
       "                                                                    ... \n",
       "Infocity, Gandhinagar, Gujarat                                         3\n",
       "Subhash Park, Vadodara, Gujarat                                        2\n",
       "Bhagwan Nagar Tekra, Ahmedabad, Gujarat                                2\n",
       "Billekahalli, Bengaluru, Karnataka                                     2\n",
       "Banaswadi Rammurthi Nagar Green Park Layout, Bengaluru, Karnataka      2\n",
       "Name: Location, Length: 260, dtype: int64"
      ]
     },
     "execution_count": 19,
     "metadata": {},
     "output_type": "execute_result"
    }
   ],
   "source": [
    "Car['Location'].value_counts()"
   ]
  },
  {
   "cell_type": "code",
   "execution_count": 20,
   "metadata": {},
   "outputs": [],
   "source": [
    "Car['Location']=Car['Location'].replace('-','Delhi')"
   ]
  },
  {
   "cell_type": "code",
   "execution_count": 21,
   "metadata": {},
   "outputs": [
    {
     "data": {
      "text/plain": [
       "0    Delhi\n",
       "dtype: object"
      ]
     },
     "execution_count": 21,
     "metadata": {},
     "output_type": "execute_result"
    }
   ],
   "source": [
    "Car.Location.mode()"
   ]
  },
  {
   "cell_type": "markdown",
   "metadata": {},
   "source": [
    "Location should not be a determinant for the price of a car and I'll safely remove it."
   ]
  },
  {
   "cell_type": "code",
   "execution_count": 22,
   "metadata": {},
   "outputs": [],
   "source": [
    "X_train.drop(\"Location\", axis = 1, inplace = True)"
   ]
  },
  {
   "cell_type": "code",
   "execution_count": 23,
   "metadata": {},
   "outputs": [],
   "source": [
    "\n",
    "X_test.drop(\"Location\", axis = 1, inplace = True)"
   ]
  },
  {
   "cell_type": "markdown",
   "metadata": {},
   "source": [
    "Year"
   ]
  },
  {
   "cell_type": "code",
   "execution_count": 24,
   "metadata": {},
   "outputs": [],
   "source": [
    "curr_time = datetime.datetime.now()\n"
   ]
  },
  {
   "cell_type": "code",
   "execution_count": 25,
   "metadata": {},
   "outputs": [
    {
     "name": "stdout",
     "output_type": "stream",
     "text": [
      "<class 'pandas.core.frame.DataFrame'>\n",
      "Int64Index: 4851 entries, 3203 to 860\n",
      "Data columns (total 7 columns):\n",
      " #   Column              Non-Null Count  Dtype \n",
      "---  ------              --------------  ----- \n",
      " 0   Brand               4851 non-null   object\n",
      " 1   Model               4851 non-null   object\n",
      " 2   Variant             4851 non-null   object\n",
      " 3   Manufacturing_Year  4851 non-null   object\n",
      " 4   Driven_kilometres   4851 non-null   object\n",
      " 5   Fuel                4851 non-null   object\n",
      " 6   Number_of_owners    4851 non-null   object\n",
      "dtypes: object(7)\n",
      "memory usage: 463.2+ KB\n"
     ]
    }
   ],
   "source": [
    "X_train.info()"
   ]
  },
  {
   "cell_type": "code",
   "execution_count": 26,
   "metadata": {},
   "outputs": [],
   "source": [
    "X_train['Manufacturing_Year']=X_train['Manufacturing_Year'].replace('-','2000')\n",
    "X_test['Manufacturing_Year'] = X_test['Manufacturing_Year'].replace('-','2000')\n",
    "\n"
   ]
  },
  {
   "cell_type": "code",
   "execution_count": 27,
   "metadata": {},
   "outputs": [],
   "source": [
    "X_train['Manufacturing_Year']=X_train['Manufacturing_Year'].replace('Petrol','2000')\n",
    "X_test['Manufacturing_Year'] = X_test['Manufacturing_Year'].replace('Petrol','2000')"
   ]
  },
  {
   "cell_type": "code",
   "execution_count": 28,
   "metadata": {},
   "outputs": [],
   "source": [
    "X_train['Manufacturing_Year']=X_train['Manufacturing_Year'].replace('Diesel','2000')\n",
    "X_test['Manufacturing_Year'] = X_test['Manufacturing_Year'].replace('Diesel','2000')"
   ]
  },
  {
   "cell_type": "code",
   "execution_count": 29,
   "metadata": {},
   "outputs": [],
   "source": [
    "X_train['Manufacturing_Year']=X_train['Manufacturing_Year'].replace('82,084 km','2000')\n",
    "X_test['Manufacturing_Year'] = X_test['Manufacturing_Year'].replace('82,084 km','2000')\n"
   ]
  },
  {
   "cell_type": "code",
   "execution_count": 30,
   "metadata": {},
   "outputs": [],
   "source": [
    "X_train['Manufacturing_Year']=X_train['Manufacturing_Year'].replace('78,000 km','2000')\n",
    "X_test['Manufacturing_Year'] = X_test['Manufacturing_Year'].replace('78,000 km','2000')"
   ]
  },
  {
   "cell_type": "code",
   "execution_count": 31,
   "metadata": {},
   "outputs": [],
   "source": [
    "X_train['Manufacturing_Year']=X_train['Manufacturing_Year'].astype(int)\n",
    "X_test['Manufacturing_Year'] = X_test['Manufacturing_Year'].astype(int)"
   ]
  },
  {
   "cell_type": "code",
   "execution_count": 32,
   "metadata": {},
   "outputs": [],
   "source": [
    "X_train['Manufacturing_Year'] = X_train['Manufacturing_Year'].apply(lambda x : curr_time.year - x)\n",
    "X_test['Manufacturing_Year'] = X_test['Manufacturing_Year'].apply(lambda x : curr_time.year - x)"
   ]
  },
  {
   "cell_type": "code",
   "execution_count": 33,
   "metadata": {},
   "outputs": [
    {
     "data": {
      "text/plain": [
       "3203     9\n",
       "1350     7\n",
       "6812    10\n",
       "446      7\n",
       "1743     9\n",
       "        ..\n",
       "3772     3\n",
       "5191    11\n",
       "5226    20\n",
       "5390    10\n",
       "860      5\n",
       "Name: Manufacturing_Year, Length: 4851, dtype: int64"
      ]
     },
     "execution_count": 33,
     "metadata": {},
     "output_type": "execute_result"
    }
   ],
   "source": [
    "X_train['Manufacturing_Year']"
   ]
  },
  {
   "cell_type": "markdown",
   "metadata": {},
   "source": [
    "Model,Variant,Fuel,Number_of_owners .All these columns are categorical columns which should be converted to dummy variables before being used"
   ]
  },
  {
   "cell_type": "markdown",
   "metadata": {},
   "source": [
    "\n",
    "Kilometers_Driven"
   ]
  },
  {
   "cell_type": "code",
   "execution_count": 34,
   "metadata": {},
   "outputs": [
    {
     "data": {
      "text/plain": [
       "3203     71,000 km\n",
       "1350    110,000 km\n",
       "6812     67,000 km\n",
       "446     175,835 km\n",
       "1743     61,000 km\n",
       "           ...    \n",
       "3772     15,000 km\n",
       "5191     90,000 km\n",
       "5226     39,000 km\n",
       "5390     39,000 km\n",
       "860      44,000 km\n",
       "Name: Driven_kilometres, Length: 4851, dtype: object"
      ]
     },
     "execution_count": 34,
     "metadata": {},
     "output_type": "execute_result"
    }
   ],
   "source": [
    "X_train[\"Driven_kilometres\"]"
   ]
  },
  {
   "cell_type": "markdown",
   "metadata": {},
   "source": [
    "The data range is really varied and the high values might affect prediction, thus, it is really important that scaling be applied to this column for sure"
   ]
  },
  {
   "cell_type": "markdown",
   "metadata": {},
   "source": [
    "Data PREPROCESSING"
   ]
  },
  {
   "cell_type": "markdown",
   "metadata": {},
   "source": [
    "i)Dealing with missing values"
   ]
  },
  {
   "cell_type": "code",
   "execution_count": 35,
   "metadata": {},
   "outputs": [
    {
     "data": {
      "text/plain": [
       "Brand                 0\n",
       "Model                 0\n",
       "Variant               0\n",
       "Manufacturing_Year    0\n",
       "Driven_kilometres     0\n",
       "Fuel                  0\n",
       "Number_of_owners      0\n",
       "Location              0\n",
       "Price                 0\n",
       "dtype: int64"
      ]
     },
     "execution_count": 35,
     "metadata": {},
     "output_type": "execute_result"
    }
   ],
   "source": [
    "Car.isnull().sum()"
   ]
  },
  {
   "cell_type": "code",
   "execution_count": 36,
   "metadata": {},
   "outputs": [],
   "source": [
    "#There are no missing values in the dataframe"
   ]
  },
  {
   "cell_type": "code",
   "execution_count": 37,
   "metadata": {},
   "outputs": [
    {
     "data": {
      "text/plain": [
       "<matplotlib.axes._subplots.AxesSubplot at 0x265bf665280>"
      ]
     },
     "execution_count": 37,
     "metadata": {},
     "output_type": "execute_result"
    },
    {
     "data": {
      "image/png": "[encoded data removed]",
      "text/plain": [
       "<Figure size 432x288 with 2 Axes>"
      ]
     },
     "metadata": {
      "needs_background": "light"
     },
     "output_type": "display_data"
    }
   ],
   "source": [
    "#heatmap to verify nulll values using graph\n",
    "sns.heatmap(Car.isnull(),yticklabels=False,cbar=True,cmap='Accent')"
   ]
  },
  {
   "cell_type": "code",
   "execution_count": 38,
   "metadata": {},
   "outputs": [],
   "source": [
    "#define numeric variable and categorical variable to work separatly on them\n",
    "num_col=['Manufacturing_Year']\n",
    "cat_cols=['Brand','Model','Variant','Fuel','Number_of_owners','Location','Driven_kilometres']"
   ]
  },
  {
   "cell_type": "markdown",
   "metadata": {},
   "source": [
    "Now that we have worked with the training data, let's create dummy columns for categorical columns before we begin training."
   ]
  },
  {
   "cell_type": "code",
   "execution_count": 39,
   "metadata": {},
   "outputs": [],
   "source": [
    "\n",
    "X_train = pd.get_dummies(X_train,\n",
    "                         columns = [\"Brand\", \"Model\", \"Variant\",\"Fuel\", \"Number_of_owners\",\"Driven_kilometres\"],\n",
    "                         drop_first = True)"
   ]
  },
  {
   "cell_type": "code",
   "execution_count": 40,
   "metadata": {},
   "outputs": [],
   "source": [
    "\n",
    "X_test = pd.get_dummies(X_test,\n",
    "                         columns = [\"Brand\", \"Model\", \"Variant\",\"Fuel\", \"Number_of_owners\",\"Driven_kilometres\"],\n",
    "                         drop_first = True)"
   ]
  },
  {
   "cell_type": "code",
   "execution_count": 41,
   "metadata": {},
   "outputs": [],
   "source": [
    "#It might be possible\n",
    "#that the dummy column creation would be different in test and train data, thus, I'd fill in all missing columns with zeros."
   ]
  },
  {
   "cell_type": "code",
   "execution_count": 42,
   "metadata": {},
   "outputs": [],
   "source": [
    "missing_cols = set(X_train.columns) - set(X_test.columns)\n",
    "for col in missing_cols:\n",
    "    X_test[col] = 0\n",
    "X_test = X_test[X_train.columns]"
   ]
  },
  {
   "cell_type": "markdown",
   "metadata": {},
   "source": [
    "\n",
    "Finally, as the last step of data processing, I'll scale the data."
   ]
  },
  {
   "cell_type": "code",
   "execution_count": 43,
   "metadata": {},
   "outputs": [],
   "source": [
    "standardScaler = StandardScaler()"
   ]
  },
  {
   "cell_type": "code",
   "execution_count": 44,
   "metadata": {},
   "outputs": [
    {
     "data": {
      "text/plain": [
       "StandardScaler()"
      ]
     },
     "execution_count": 44,
     "metadata": {},
     "output_type": "execute_result"
    }
   ],
   "source": [
    "standardScaler.fit(X_train)"
   ]
  },
  {
   "cell_type": "code",
   "execution_count": 45,
   "metadata": {},
   "outputs": [],
   "source": [
    "X_train = standardScaler.transform(X_train)\n",
    "X_test = standardScaler.transform(X_test)"
   ]
  },
  {
   "cell_type": "markdown",
   "metadata": {},
   "source": [
    "Training and predicting\n",
    "\n",
    "Linear Regression model and a Random Forest model to train on the data and use it for future predictions"
   ]
  },
  {
   "cell_type": "code",
   "execution_count": 46,
   "metadata": {},
   "outputs": [
    {
     "data": {
      "text/plain": [
       "-3.1166934584082743e+19"
      ]
     },
     "execution_count": 46,
     "metadata": {},
     "output_type": "execute_result"
    }
   ],
   "source": [
    "linearRegression = LinearRegression()\n",
    "linearRegression.fit(X_train, y_train)\n",
    "y_pred = linearRegression.predict(X_test)\n",
    "r2_score(y_test, y_pred)"
   ]
  },
  {
   "cell_type": "code",
   "execution_count": 47,
   "metadata": {},
   "outputs": [
    {
     "data": {
      "text/plain": [
       "0.9996492831347448"
      ]
     },
     "execution_count": 47,
     "metadata": {},
     "output_type": "execute_result"
    }
   ],
   "source": [
    "rf = RandomForestRegressor(n_estimators = 100)\n",
    "rf.fit(X_train, y_train)\n",
    "y_pred = rf.predict(X_test)\n",
    "r2_score(y_test, y_pred)"
   ]
  },
  {
   "cell_type": "code",
   "execution_count": 48,
   "metadata": {},
   "outputs": [],
   "source": [
    "from sklearn.tree import DecisionTreeRegressor"
   ]
  },
  {
   "cell_type": "code",
   "execution_count": 49,
   "metadata": {},
   "outputs": [
    {
     "data": {
      "text/plain": [
       "0.9998943770607401"
      ]
     },
     "execution_count": 49,
     "metadata": {},
     "output_type": "execute_result"
    }
   ],
   "source": [
    "dt=DecisionTreeRegressor(random_state=0)\n",
    "dt.fit(X_train, y_train)\n",
    "y_pred = dt.predict(X_test)\n",
    "r2_score(y_test, y_pred)"
   ]
  },
  {
   "cell_type": "markdown",
   "metadata": {},
   "source": [
    "The Decision tree model performed the best with a R2 score of 0.99"
   ]
  }
 ],
 "metadata": {
  "kernelspec": {
   "display_name": "Python 3",
   "language": "python",
   "name": "python3"
  },
  "language_info": {
   "codemirror_mode": {
    "name": "ipython",
    "version": 3
   },
   "file_extension": ".py",
   "mimetype": "text/x-python",
   "name": "python",
   "nbconvert_exporter": "python",
   "pygments_lexer": "ipython3",
   "version": "3.8.3"
  }
 },
 "nbformat": 4,
 "nbformat_minor": 4
}
